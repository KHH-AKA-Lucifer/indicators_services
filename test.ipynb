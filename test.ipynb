{
 "cells": [
  {
   "cell_type": "code",
   "execution_count": 1,
   "id": "b44376ff",
   "metadata": {},
   "outputs": [],
   "source": [
    "# import required libraries\n",
    "import pytz\n",
    "import os\n",
    "import numpy as np\n",
    "#import warnings.filterwarnings('ignore')\n",
    "import dotenv\n",
    "import asyncpg\n",
    "import asyncio\n",
    "import pandas as pd \n",
    "from datetime import datetime\n",
    "\n",
    "# load environment variables\n",
    "dotenv.load_dotenv()\n",
    "\n",
    "# database url\n",
    "DATABASE_URL = f\"postgresql://{os.getenv('user')}:{os.getenv('password')}@{os.getenv('host')}:{os.getenv('port')}/{os.getenv('db')}\"\n",
    "\n",
    "# create an async database connection pool\n",
    "async def connect_db():\n",
    "    \"\"\"Initialize the async database connection pool.\"\"\"\n",
    "    global db_pool\n",
    "    db_pool = await asyncpg.create_pool(DATABASE_URL, min_size=1, max_size=10)\n",
    "    print('Database connected successfully!')\n",
    "\n",
    "# close the connection pool\n",
    "async def disconnect_db():\n",
    "    \"\"\"Close the database connection pool.\"\"\"\n",
    "    global db_pool\n",
    "    if db_pool:\n",
    "        await db_pool.close()\n",
    "    print('Database connection closed!')\n",
    "\n",
    "\n",
    "async def table2df(schema_name:str,table_name: str, timeframe:str):\n",
    "    \"\"\"\n",
    "        Get data from a table in the database and return as a Pandas DataFrame.\n",
    "\n",
    "        parameters\n",
    "        ----------\n",
    "        table_name (str): The name of the table in the database.\n",
    "\n",
    "        returns\n",
    "        -------\n",
    "        df (pd.DataFrame): The data from the table as a Pandas DataFrame.\n",
    "    \"\"\"\n",
    "\n",
    "    try:\n",
    "        # get a connection from the pool\n",
    "        async with db_pool.acquire() as conn:\n",
    "            \n",
    "            # query (utc)\n",
    "            query = f\"SELECT * FROM {schema_name}.{table_name}\"\n",
    "            rows = await conn.fetch(query)\n",
    "\n",
    "            # convert asyncpg.Record to a list of dictionaries & convert to pandas\n",
    "            df = pd.DataFrame([dict(row) for row in rows])\n",
    "\n",
    "            if df.empty:\n",
    "                return df  # return an empty DataFrame if no data\n",
    "\n",
    "            # standardize all column names to lowercase\n",
    "            df.columns = df.columns.str.lower()\n",
    "\n",
    "            # set date_time column as index\n",
    "            df.set_index(f\"bucket_{timeframe}\", inplace=True)\n",
    "\n",
    "            # ensure the date_time column is in datetime format (optional, but recommended)\n",
    "            df.index = pd.to_datetime(df.index)\n",
    "\n",
    "            df.replace(0.0, pd.NA, inplace=True)\n",
    "            df.dropna(how=\"any\", inplace=True)\n",
    "            # ensure numeric columns are float64\n",
    "            df = df.astype(\"float\")\n",
    "\n",
    "            return df\n",
    "\n",
    "    except Exception as e:\n",
    "        print(\"An error occurred:\", e)\n",
    "        return pd.DataFrame()  # return an empty DataFrame in case of failure\n"
   ]
  },
  {
   "cell_type": "code",
   "execution_count": 2,
   "id": "9ef3fb5f",
   "metadata": {},
   "outputs": [
    {
     "name": "stdout",
     "output_type": "stream",
     "text": [
      "Database connected successfully!\n"
     ]
    }
   ],
   "source": [
    "await connect_db()"
   ]
  },
  {
   "cell_type": "code",
   "execution_count": 3,
   "id": "306f2ae9",
   "metadata": {},
   "outputs": [],
   "source": [
    "# retrieve 6hour gold data\n",
    "gold_6h = await table2df(\"gold\", \"ohlc_data_6hr_bid_xau_usd\", \"6h\")\n",
    "# retrieve daily gold data \n",
    "gold_daily = await table2df(\"gold\", \"ohlc_data_daily_bid_xau_usd\", \"daily\")\n",
    "\n",
    "# retrieve 6hour silver data\n",
    "silver_6h = await table2df(\"silver\", \"ohlc_data_6hr_bid_xag_usd\", \"6h\")\n",
    "# retrieve daily silver data \n",
    "silver_daily = await table2df(\"silver\", \"ohlc_data_daily_bid_xag_usd\", \"daily\")\n",
    "\n",
    "# retrieve 6hour platinum data\n",
    "platinum_6h = await table2df(\"platinum\", \"ohlc_data_6hr_bid_xpt_usd\", \"6h\")\n",
    "# retrieve daily platinum data\n",
    "platinum_daily = await table2df(\"platinum\", \"ohlc_data_daily_bid_xpt_usd\", \"daily\")\n",
    "\n",
    "# retrieve 6hour sgd data\n",
    "sgd_6h = await table2df(\"sgd\", \"ohlc_data_6hr_bid_usd_sgd\", \"6h\")\n",
    "# retrieve daily sgd data\n",
    "sgd_daily = await table2df(\"sgd\", \"ohlc_data_daily_bid_usd_sgd\", \"daily\")\n",
    "\n",
    "# retrieve 6hour myr data\n",
    "myr_6h = await table2df(\"myr\", \"ohlc_data_6hr_bid_usd_myr\", \"6h\")\n",
    "# retrieve daily myr data\n",
    "myr_daily = await table2df(\"myr\", \"ohlc_data_daily_bid_usd_myr\", \"daily\")"
   ]
  },
  {
   "cell_type": "code",
   "execution_count": 4,
   "id": "856ff9f9",
   "metadata": {},
   "outputs": [
    {
     "name": "stdout",
     "output_type": "stream",
     "text": [
      "                              open     high      low    close    volume\n",
      "bucket_6h                                                              \n",
      "2025-08-11 18:00:00+00:00  3357.55  3358.63  3341.75  3349.06   81956.0\n",
      "2025-08-12 00:00:00+00:00  3348.71  3357.46  3346.08  3354.51  111059.0\n",
      "2025-08-12 06:00:00+00:00  3354.51  3354.82  3342.14  3344.60   14021.0\n",
      "                             open    high     low   close   volume\n",
      "bucket_6h                                                         \n",
      "2025-08-11 18:00:00+00:00  37.776  37.798  37.495  37.679  17463.0\n",
      "2025-08-12 00:00:00+00:00  37.673  37.950  37.671  37.943  34309.0\n",
      "2025-08-12 06:00:00+00:00  37.944  37.950  37.838  37.874   4550.0\n"
     ]
    }
   ],
   "source": [
    "print(gold_6h.tail(3))\n",
    "print(silver_6h.tail(3))"
   ]
  },
  {
   "cell_type": "code",
   "execution_count": 5,
   "id": "6697d31a",
   "metadata": {},
   "outputs": [
    {
     "name": "stdout",
     "output_type": "stream",
     "text": [
      "                              open     high      low    close    volume\n",
      "bucket_daily                                                           \n",
      "2025-06-05 00:00:00+00:00  3377.40  3403.42  3339.34  3361.95  407944.0\n",
      "2025-06-06 00:00:00+00:00  3361.79  3375.53  3307.06  3309.85  370173.0\n",
      "2025-06-08 00:00:00+00:00  3312.09  3321.08  3308.98  3318.02   23043.0\n",
      "                              open     high      low    close    volume\n",
      "bucket_daily                                                           \n",
      "2025-08-10 00:00:00+00:00  3396.69  3404.08  3389.87  3391.48   25873.0\n",
      "2025-08-11 00:00:00+00:00  3391.29  3391.58  3341.28  3349.06  528817.0\n",
      "2025-08-12 00:00:00+00:00  3348.71  3357.46  3342.14  3344.60  125080.0\n"
     ]
    }
   ],
   "source": [
    "print(gold_daily.head(3))\n",
    "print(gold_daily.tail(3))"
   ]
  },
  {
   "cell_type": "code",
   "execution_count": 6,
   "id": "09b62468",
   "metadata": {},
   "outputs": [],
   "source": [
    "def calculate_slowD(df: pd.DataFrame, k_period: int = 9, d_period: int = 3) -> pd.DataFrame:\n",
    "    \"\"\"A stochastic function that calculates the Fast %K & Slow %D using EMA.\n",
    "    \n",
    "    Parameters\n",
    "    ----------\n",
    "    df: pd.DataFrame (Input dataframe containing OHLC data.)\n",
    "    k_period: int, optional (Period to calculate the Fast %K <default is 9>.)\n",
    "    d_period: int, optional (Period to calculate the Slow %D <default is 3>.)\n",
    "    \n",
    "    Returns\n",
    "    -------\n",
    "    pd.DataFrame (DataFrame that contains Fast %K, Fast %D (EMA), and Slow %D (EMA).)\n",
    "    \"\"\"\n",
    "\n",
    "    # find the highest high market price in the k period\n",
    "    df['highest_high'] = df['high'].rolling(window=k_period).max()\n",
    "\n",
    "    # find the lowest low market price in the k period\n",
    "    df['lowest_low'] = df['low'].rolling(window=k_period).min()\n",
    "\n",
    "    # calculate Fast %K\n",
    "    df['fastk'] = ((df['close'] - df['lowest_low']) / (df['highest_high'] - df['lowest_low'])) * 100\n",
    "\n",
    "    # calculate Fast %D (EMA of Fast %K with period 1, which is just FastK itself)\n",
    "    df['fastd'] = df['fastk']\n",
    "\n",
    "    # calculate Slow %D (EMA of Fast %D with period d_period)\n",
    "    df['slowd'] = df['fastd'].ewm(span=d_period, adjust=False).mean()\n",
    "\n",
    "    # drop unecessary columns\n",
    "    df.drop(columns=['highest_high', 'lowest_low'], inplace=True)\n",
    "\n",
    "    # Return the dataframe with stochastic values\n",
    "    return df\n"
   ]
  },
  {
   "cell_type": "code",
   "execution_count": 7,
   "id": "2be98736",
   "metadata": {},
   "outputs": [],
   "source": [
    "def calculate_cci(df: pd.DataFrame, period: int) -> pd.DataFrame:\n",
    "    \"\"\" A method that calculates commodity channel index.\n",
    "\n",
    "        Parameters\n",
    "        ----------\n",
    "        df: pd.DataFrame (Input dataframe containing OHLC data.)\n",
    "        period: int (lookback period)\n",
    "\n",
    "        Returns\n",
    "        -------\n",
    "        pd.DataFrame (DataFrame that contains Commodity Channel Index (CCI).)\n",
    "    \"\"\"\n",
    "        \n",
    "    # calculate the typical price\n",
    "    df['typical_price'] = (df['high'] + df['low'] + df['close']) / 3\n",
    "\n",
    "    # calculate the simple moving average (SMA) of the Typical Price\n",
    "    sma = df['typical_price'].rolling(window=period).mean()\n",
    "\n",
    "    # calculate the mean deviation manually\n",
    "    mean_deviation = df['typical_price'].rolling(window=period).apply(\n",
    "        lambda x: (np.abs(x - x.mean()).mean()), raw=True\n",
    "    )\n",
    "\n",
    "    # calculate the CCI\n",
    "    df[f'cci{period}'] = (df['typical_price'] - sma) / \\\n",
    "        (0.015 * mean_deviation)\n",
    "\n",
    "    # return the resulted dataframe\n",
    "    return df"
   ]
  },
  {
   "cell_type": "code",
   "execution_count": 8,
   "id": "cc001c38",
   "metadata": {},
   "outputs": [
    {
     "name": "stdout",
     "output_type": "stream",
     "text": [
      "                    date_time                       updated_at      slowd  \\\n",
      "622 2025-08-08 06:00:00+00:00 2025-08-12 06:33:10.064079+00:00  64.735355   \n",
      "623 2025-08-08 12:00:00+00:00 2025-08-12 06:33:10.064079+00:00  56.422320   \n",
      "624 2025-08-08 18:00:00+00:00 2025-08-12 06:33:10.064079+00:00  67.996106   \n",
      "625 2025-08-10 18:00:00+00:00 2025-08-12 06:33:10.064079+00:00  64.281202   \n",
      "626 2025-08-11 00:00:00+00:00 2025-08-12 06:33:10.064079+00:00  43.543040   \n",
      "627 2025-08-11 06:00:00+00:00 2025-08-12 06:33:10.064079+00:00  26.397370   \n",
      "628 2025-08-11 12:00:00+00:00 2025-08-12 06:33:10.064079+00:00  25.280967   \n",
      "629 2025-08-11 18:00:00+00:00 2025-08-12 06:33:10.064079+00:00  18.808233   \n",
      "630 2025-08-12 00:00:00+00:00 2025-08-12 06:33:10.064079+00:00  19.892463   \n",
      "631 2025-08-12 06:00:00+00:00 2025-08-12 06:33:10.064079+00:00  12.578228   \n",
      "\n",
      "           cci3        cci9  \n",
      "622  -66.251638   61.095919  \n",
      "623 -100.000000   37.397706  \n",
      "624  100.000000   60.813329  \n",
      "625   84.966525   78.366239  \n",
      "626 -100.000000 -152.651940  \n",
      "627 -100.000000 -227.727841  \n",
      "628  -74.135514 -155.907516  \n",
      "629  -84.149533 -121.635216  \n",
      "630   24.242424  -81.215422  \n",
      "631  -97.091633  -81.378557  \n"
     ]
    }
   ],
   "source": [
    "gold_6h = calculate_slowD(gold_6h, k_period=9, d_period=3)\n",
    "gold_6h = calculate_cci(gold_6h, period=3)\n",
    "gold_6h = calculate_cci(gold_6h, period=9)\n",
    "# Store only the required columns from gold_6h\n",
    "gold_6h_selected = gold_6h.reset_index()[['bucket_6h', 'slowd', 'cci3', 'cci9']].rename(columns={'bucket_6h': 'date_time'})\n",
    "# Add updated_at column with current datetime for all rows\n",
    "# Example UTC datetime\n",
    "utc_dt = datetime.now(pytz.utc)\n",
    "gold_6h_selected['updated_at'] = utc_dt\n",
    "# Reorder columns as requested\n",
    "gold_6h_selected = gold_6h_selected[['date_time', 'updated_at', 'slowd', 'cci3', 'cci9']]\n",
    "print(gold_6h_selected.tail(10))"
   ]
  },
  {
   "cell_type": "code",
   "execution_count": 9,
   "id": "94cf69f8",
   "metadata": {},
   "outputs": [],
   "source": [
    "# save the dataframe as a CSV file\n",
    "gold_6h_selected.to_csv('gold_6h_indicators.csv', index=False)"
   ]
  },
  {
   "cell_type": "code",
   "execution_count": 10,
   "id": "6c549cc9",
   "metadata": {},
   "outputs": [
    {
     "name": "stdout",
     "output_type": "stream",
     "text": [
      "                    date_time                       updated_at      slowd  \\\n",
      "173 2025-08-01 00:00:00+00:00 2025-08-12 06:33:10.116880+00:00  88.381564   \n",
      "174 2025-08-03 00:00:00+00:00 2025-08-12 06:33:10.116880+00:00  93.521158   \n",
      "175 2025-08-04 00:00:00+00:00 2025-08-12 06:33:10.116880+00:00  95.955912   \n",
      "176 2025-08-05 00:00:00+00:00 2025-08-12 06:33:10.116880+00:00  97.248109   \n",
      "177 2025-08-06 00:00:00+00:00 2025-08-12 06:33:10.116880+00:00  96.603782   \n",
      "178 2025-08-07 00:00:00+00:00 2025-08-12 06:33:10.116880+00:00  97.491797   \n",
      "179 2025-08-08 00:00:00+00:00 2025-08-12 06:33:10.116880+00:00  97.791881   \n",
      "180 2025-08-10 00:00:00+00:00 2025-08-12 06:33:10.116880+00:00  92.152908   \n",
      "181 2025-08-11 00:00:00+00:00 2025-08-12 06:33:10.116880+00:00  72.635263   \n",
      "182 2025-08-12 00:00:00+00:00 2025-08-12 06:33:10.116880+00:00  38.783100   \n",
      "\n",
      "           cci3        cci9  \n",
      "173   57.529433  160.134963  \n",
      "174   86.348283  111.507410  \n",
      "175   69.342327   84.434826  \n",
      "176   88.206628   68.750440  \n",
      "177  -15.818324   57.008534  \n",
      "178  100.000000   57.876951  \n",
      "179   54.591468   58.553904  \n",
      "180  100.000000   87.374737  \n",
      "181 -100.000000  -55.612894  \n",
      "182  -73.118411 -132.558007  \n"
     ]
    }
   ],
   "source": [
    "gold_daily = calculate_slowD(gold_daily, k_period=9, d_period=3)\n",
    "gold_daily = calculate_cci(gold_daily, period=3)\n",
    "gold_daily = calculate_cci(gold_daily, period=9)\n",
    "# Store only the required columns from gold_daily\n",
    "gold_daily_selected = gold_daily.reset_index()[['bucket_daily', 'slowd', 'cci3', 'cci9']].rename(columns={'bucket_daily': 'date_time'})\n",
    "# Add updated_at column with current datetime for all rows\n",
    "# Example UTC datetime\n",
    "utc_dt = datetime.now(pytz.utc)\n",
    "gold_daily_selected['updated_at'] = utc_dt\n",
    "# Reorder columns as requested\n",
    "gold_daily_selected = gold_daily_selected[['date_time', 'updated_at', 'slowd', 'cci3', 'cci9']]\n",
    "print(gold_daily_selected.tail(10))"
   ]
  },
  {
   "cell_type": "code",
   "execution_count": 11,
   "id": "4464fca3",
   "metadata": {},
   "outputs": [],
   "source": [
    "gold_daily_selected.to_csv('gold_daily_indicators.csv', index=False)"
   ]
  },
  {
   "cell_type": "code",
   "execution_count": null,
   "id": "bfd78efb",
   "metadata": {},
   "outputs": [],
   "source": [
    "def process_indicators(df, bucket_col, output_csv):\n",
    "    # Calculate indicators\n",
    "    df = calculate_slowD(df, k_period=9, d_period=3)\n",
    "    df = calculate_cci(df, period=3)\n",
    "    df = calculate_cci(df, period=9)\n",
    "    # Select and rename columns\n",
    "    selected = df.reset_index()[[bucket_col, 'slowd', 'cci3', 'cci9']].rename(columns={bucket_col: 'date_time'})\n",
    "    # Add updated_at in Singapore time\n",
    "    # sg_dt = datetime.now(pytz.utc).astimezone(pytz.timezone('Asia/Singapore'))\n",
    "    utc_dt = datetime.now(pytz.utc)\n",
    "    selected['updated_at'] = utc_dt\n",
    "    # Reorder columns\n",
    "    selected = selected[['date_time', 'updated_at', 'slowd', 'cci3', 'cci9']]\n",
    "    # print(selected.tail(10))\n",
    "    # Save to CSV\n",
    "    selected.to_csv(output_csv, index=False)\n",
    "    return selected"
   ]
  },
  {
   "cell_type": "code",
   "execution_count": 13,
   "id": "c4c29a13",
   "metadata": {},
   "outputs": [
    {
     "name": "stdout",
     "output_type": "stream",
     "text": [
      "                    date_time                       updated_at      slowd  \\\n",
      "622 2025-08-08 06:00:00+00:00 2025-08-12 14:33:10.191723+08:00  64.735355   \n",
      "623 2025-08-08 12:00:00+00:00 2025-08-12 14:33:10.191723+08:00  56.422320   \n",
      "624 2025-08-08 18:00:00+00:00 2025-08-12 14:33:10.191723+08:00  67.996106   \n",
      "625 2025-08-10 18:00:00+00:00 2025-08-12 14:33:10.191723+08:00  64.281202   \n",
      "626 2025-08-11 00:00:00+00:00 2025-08-12 14:33:10.191723+08:00  43.543040   \n",
      "627 2025-08-11 06:00:00+00:00 2025-08-12 14:33:10.191723+08:00  26.397370   \n",
      "628 2025-08-11 12:00:00+00:00 2025-08-12 14:33:10.191723+08:00  25.280967   \n",
      "629 2025-08-11 18:00:00+00:00 2025-08-12 14:33:10.191723+08:00  18.808233   \n",
      "630 2025-08-12 00:00:00+00:00 2025-08-12 14:33:10.191723+08:00  19.892463   \n",
      "631 2025-08-12 06:00:00+00:00 2025-08-12 14:33:10.191723+08:00  12.578228   \n",
      "\n",
      "           cci3        cci9  \n",
      "622  -66.251638   61.095919  \n",
      "623 -100.000000   37.397706  \n",
      "624  100.000000   60.813329  \n",
      "625   84.966525   78.366239  \n",
      "626 -100.000000 -152.651940  \n",
      "627 -100.000000 -227.727841  \n",
      "628  -74.135514 -155.907516  \n",
      "629  -84.149533 -121.635216  \n",
      "630   24.242424  -81.215422  \n",
      "631  -97.091633  -81.378557  \n"
     ]
    }
   ],
   "source": [
    "gold_6h_1 = process_indicators(gold_6h, 'bucket_6h', 'gold_6h_indicators.csv')"
   ]
  },
  {
   "cell_type": "code",
   "execution_count": 14,
   "id": "33694dae",
   "metadata": {},
   "outputs": [
    {
     "name": "stdout",
     "output_type": "stream",
     "text": [
      "                    date_time                       updated_at      slowd  \\\n",
      "173 2025-08-01 00:00:00+00:00 2025-08-12 14:33:10.291245+08:00  88.381564   \n",
      "174 2025-08-03 00:00:00+00:00 2025-08-12 14:33:10.291245+08:00  93.521158   \n",
      "175 2025-08-04 00:00:00+00:00 2025-08-12 14:33:10.291245+08:00  95.955912   \n",
      "176 2025-08-05 00:00:00+00:00 2025-08-12 14:33:10.291245+08:00  97.248109   \n",
      "177 2025-08-06 00:00:00+00:00 2025-08-12 14:33:10.291245+08:00  96.603782   \n",
      "178 2025-08-07 00:00:00+00:00 2025-08-12 14:33:10.291245+08:00  97.491797   \n",
      "179 2025-08-08 00:00:00+00:00 2025-08-12 14:33:10.291245+08:00  97.791881   \n",
      "180 2025-08-10 00:00:00+00:00 2025-08-12 14:33:10.291245+08:00  92.152908   \n",
      "181 2025-08-11 00:00:00+00:00 2025-08-12 14:33:10.291245+08:00  72.635263   \n",
      "182 2025-08-12 00:00:00+00:00 2025-08-12 14:33:10.291245+08:00  38.783100   \n",
      "\n",
      "           cci3        cci9  \n",
      "173   57.529433  160.134963  \n",
      "174   86.348283  111.507410  \n",
      "175   69.342327   84.434826  \n",
      "176   88.206628   68.750440  \n",
      "177  -15.818324   57.008534  \n",
      "178  100.000000   57.876951  \n",
      "179   54.591468   58.553904  \n",
      "180  100.000000   87.374737  \n",
      "181 -100.000000  -55.612894  \n",
      "182  -73.118411 -132.558007  \n"
     ]
    }
   ],
   "source": [
    "gold_daily_1 = process_indicators(gold_daily, 'bucket_daily', 'gold_daily_indicators.csv')"
   ]
  }
 ],
 "metadata": {
  "kernelspec": {
   "display_name": "Python 3",
   "language": "python",
   "name": "python3"
  },
  "language_info": {
   "codemirror_mode": {
    "name": "ipython",
    "version": 3
   },
   "file_extension": ".py",
   "mimetype": "text/x-python",
   "name": "python",
   "nbconvert_exporter": "python",
   "pygments_lexer": "ipython3",
   "version": "3.10.0"
  }
 },
 "nbformat": 4,
 "nbformat_minor": 5
}
